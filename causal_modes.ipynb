{
 "cells": [
  {
   "cell_type": "code",
   "execution_count": null,
   "metadata": {
    "collapsed": false,
    "pycharm": {
     "name": "#%%\n"
    }
   },
   "outputs": [],
   "source": [
    "%load_ext autoreload\n",
    "%autoreload 2"
   ]
  },
  {
   "cell_type": "code",
   "execution_count": null,
   "metadata": {},
   "outputs": [],
   "source": [
    "# Imports\n",
    "import matplotlib.pyplot as plt\n",
    "import numpy as np\n",
    "import pandas as pd\n",
    "from msapy import msa, plottings as pl\n",
    "from netneurotools import cluster, plotting as netplot # comment out the import line 15 in plotting if you got an error here\n",
    "import bct\n",
    "\n",
    "from itertools import product\n",
    "import seaborn as sns\n",
    "from sklearn.metrics import mean_squared_error\n",
    "from sklearn.model_selection import train_test_split\n",
    "from sklearn.model_selection import ParameterGrid\n",
    "\n",
    "from echoes import ESNGenerator\n",
    "from echoes.datasets import load_mackeyglasst17\n",
    "from scipy.stats import ks_2samp, linregress\n",
    "from copy import deepcopy\n",
    "import networkx as nx\n",
    "from tqdm import tqdm\n",
    "\n",
    "SEED = 2022\n",
    "RNG = np.random.default_rng(SEED)\n",
    "pl.set_style()\n",
    "my_colors = ['#006685', '#3FA5C4', '#FFFFFF', '#E84653', '#BF003F']\n",
    "my_complementary_colors = ['#E84653', '#BF003F','#A6587C','#591154','#260126']\n",
    "\n",
    "colormap = sns.blend_palette(my_colors, as_cmap=True)\n"
   ]
  },
  {
   "cell_type": "code",
   "execution_count": null,
   "metadata": {},
   "outputs": [],
   "source": [
    "def generate_wave_data(amp_freq_pairs, timestamps, sampling_rate):\n",
    "    \"\"\"A function to generate wave data from an array of amplitude and frequency pairs.\n",
    "    We use this function to generate some toy examples for illustrating what causal modes are. \n",
    "\n",
    "    Args:\n",
    "        amp_freq_pairs (ndarray): \n",
    "            numpy array of shape (n, 2) with n means the number of different amplitude and frequency pairs.\n",
    "            \n",
    "        timestamps (ndarray): \n",
    "            numpy array of shape (t,) with t means the number of timestamps.\n",
    "            \n",
    "        sampling_rate (float): \n",
    "            a float number representing the sampling rate.\n",
    "\n",
    "    Returns:\n",
    "        _type_: numpy array of shape (n, t) with n means the number of different amplitude and frequency pairs and t means the number of timestamps.\n",
    "    \"\"\"\n",
    "    frequencies = amp_freq_pairs[:, 1, None]\n",
    "    amplitudes = amp_freq_pairs[:, 0, None]\n",
    "    timestamps = np.broadcast_to(\n",
    "        timestamps, (amplitudes.shape[0], sampling_rate))\n",
    "    data = np.sin(2 * np.pi * timestamps * frequencies) * amplitudes\n",
    "    return data\n",
    "\n",
    "def linear_case(complements):\n",
    "    \"\"\"the most basic case. Summing the incoming timeseries. Except for the lesioned ones. So the lesion here is defined as not contributing to this sum, and thus, not existing!\n",
    "\n",
    "    Args:\n",
    "        complements (tuples): which nodes to lesion.\n",
    "\n",
    "    Returns:\n",
    "        (ndarray): the summed up timeseries.\n",
    "    \"\"\"\n",
    "    return data.sum(0) - data[complements, :].sum(0)\n",
    "\n",
    "doubled_case = lambda x: linear_case(x)*2 # this is the case where we multiply the summed up signal by 2.\n",
    "\n",
    "non_linear_case = lambda x: np.tanh(linear_case(x)) # this is the case where we pass the summed up signal through a nonlinearity, here it's tanh.\n",
    "\n"
   ]
  },
  {
   "cell_type": "code",
   "execution_count": null,
   "metadata": {},
   "outputs": [],
   "source": [
    "sampling_rate = 500\n",
    "sampling_interval = 1/sampling_rate\n",
    "timestamps = np.arange(0, 1, sampling_interval)\n",
    "\n",
    "frequencies = np.arange(1, 10, 1.5)\n",
    "amplitudes = np.arange(0.2, 2, 0.4)\n",
    "\n",
    "amp_freq_pairs = np.array(list(map(list, product(amplitudes, frequencies))))"
   ]
  },
  {
   "cell_type": "code",
   "execution_count": null,
   "metadata": {},
   "outputs": [],
   "source": [
    "data = generate_wave_data(amp_freq_pairs, timestamps, sampling_rate)\n",
    "elements = list(range(len(data)))"
   ]
  },
  {
   "cell_type": "code",
   "execution_count": null,
   "metadata": {},
   "outputs": [],
   "source": [
    "plt.figure(dpi=150)\n",
    "plt.plot(data[5], label=\"node 5\",c=\"#EAAC8B\",lw=2,alpha=0.9)\n",
    "plt.plot(data[10], label=\"node 10\",c=\"#E56B6F\",lw=2,alpha=0.9)\n",
    "plt.plot(data[25], label=\"node 25\",c=\"#B56576\",lw=2,alpha=0.9)\n",
    "plt.title(\"Example Activities\")\n",
    "plt.xlabel(\"Time steps\")\n",
    "plt.ylabel(\"Amplitude\");"
   ]
  },
  {
   "cell_type": "code",
   "execution_count": null,
   "metadata": {},
   "outputs": [],
   "source": [
    "plt.figure(dpi=150)\n",
    "plt.plot(linear_case([]),c=my_colors[0],lw=2,alpha=0.9)\n",
    "plt.title(\"Combined Activity\")\n",
    "plt.xlabel(\"Time steps\")\n",
    "plt.ylabel(\"Amplitude\");"
   ]
  },
  {
   "cell_type": "code",
   "execution_count": null,
   "metadata": {},
   "outputs": [],
   "source": [
    "shapley_table_linear, _, _ = msa.interface(\n",
    "    elements=elements,\n",
    "    n_permutations=10_000,\n",
    "    objective_function=linear_case,\n",
    "    n_parallel_games=-1,\n",
    "    rng=RNG)\n",
    "linear_modes = shapley_table_linear.groupby(level=1).mean()"
   ]
  },
  {
   "cell_type": "code",
   "execution_count": null,
   "metadata": {},
   "outputs": [],
   "source": [
    "plt.figure(dpi=150)\n",
    "plt.plot(data[5], label=\"node 5\",c=\"#EAAC8B\",lw=2,alpha=0.9)\n",
    "plt.plot(data[10], label=\"node 10\",c=\"#E56B6F\",lw=2,alpha=0.9)\n",
    "plt.plot(data[25], label=\"node 25\",c=\"#B56576\",lw=2,alpha=0.9)\n",
    "\n",
    "plt.plot(linear_modes[5], label=\"Contribution #5\",c=\"#EAAC8B\",lw=4.5,alpha=0.4)\n",
    "plt.plot(linear_modes[10], label=\"Contribution #10\",c=\"#E56B6F\",lw=4.5,alpha=0.4)\n",
    "plt.plot(linear_modes[25], label=\"Contribution #25\",c=\"#B56576\",lw=4.5,alpha=0.4)\n",
    "plt.title(\"Activity vs Contribution\")\n",
    "plt.xlabel(\"Time steps\")\n",
    "plt.ylabel(\"Amplitude\")"
   ]
  },
  {
   "cell_type": "code",
   "execution_count": null,
   "metadata": {},
   "outputs": [],
   "source": [
    "plt.figure(dpi=150)\n",
    "plt.plot(linear_case([]),c=my_colors[0],lw=2,alpha=0.9)\n",
    "plt.plot(linear_modes.sum(1),c=my_colors[0],lw=4.5,alpha=0.4)\n",
    "plt.title(\"Reconstructing the Combined Activities\")\n",
    "plt.xlabel(\"Time steps\")\n",
    "plt.ylabel(\"Amplitude\")"
   ]
  },
  {
   "cell_type": "code",
   "execution_count": null,
   "metadata": {},
   "outputs": [],
   "source": [
    "plt.figure(dpi=150)\n",
    "plt.plot(doubled_case([]),c=my_colors[0],lw=2,alpha=0.9)\n",
    "plt.title(\"(Combined Activity)x2\")\n",
    "plt.xlabel(\"Time steps\")\n",
    "plt.ylabel(\"Amplitude\")"
   ]
  },
  {
   "cell_type": "code",
   "execution_count": null,
   "metadata": {},
   "outputs": [],
   "source": [
    "shapley_table_squared, _, _ = msa.interface(\n",
    "    elements=elements,\n",
    "    n_permutations=10_000,\n",
    "    objective_function=squared_case,\n",
    "    n_parallel_games=-1,\n",
    "    rng=RNG)\n",
    "squared_modes = shapley_table_squared.groupby(level=1).mean()"
   ]
  },
  {
   "cell_type": "code",
   "execution_count": null,
   "metadata": {},
   "outputs": [],
   "source": [
    "plt.figure(dpi=150)\n",
    "\n",
    "plt.plot(data[25], label=\"Activity\",c=\"#B56576\",lw=2,alpha=0.9)\n",
    "\n",
    "plt.plot(squared_modes[25], label=\"Contribution\",c=\"k\",lw=2,alpha=0.9)\n",
    "plt.title(\"Activity vs Contribution\")\n",
    "plt.xlabel(\"Time steps\")\n",
    "plt.ylabel(\"Amplitude\")\n",
    "plt.legend(loc=\"lower left\")"
   ]
  },
  {
   "cell_type": "code",
   "execution_count": null,
   "metadata": {},
   "outputs": [],
   "source": [
    "sns.regplot(data[25],squared_modes[25])"
   ]
  },
  {
   "cell_type": "code",
   "execution_count": null,
   "metadata": {},
   "outputs": [],
   "source": [
    "plt.figure(dpi=150)\n",
    "plt.plot(non_linear_case([]),c=my_colors[0],lw=2,alpha=0.9)\n",
    "plt.title(\"tanh(Combined Activity)\")\n",
    "plt.xlabel(\"Time steps\")\n",
    "plt.ylabel(\"Amplitude\")"
   ]
  },
  {
   "cell_type": "code",
   "execution_count": null,
   "metadata": {},
   "outputs": [],
   "source": [
    "shapley_table_nonlinear, _, _ = msa.interface(\n",
    "    elements=elements,\n",
    "    n_permutations=10_000,\n",
    "    objective_function=non_linear_case,\n",
    "    n_parallel_games=-1,\n",
    "    rng=RNG)\n",
    "nonlinear_modes = shapley_table_nonlinear.groupby(level=1).mean()"
   ]
  },
  {
   "cell_type": "code",
   "execution_count": null,
   "metadata": {},
   "outputs": [],
   "source": [
    "plt.figure(dpi=150)\n",
    "\n",
    "plt.plot(data[25], label=\"Activity\",c=\"#B56576\",lw=2,alpha=0.9)\n",
    "\n",
    "plt.plot(nonlinear_modes[25], label=\"Contribution\",c=\"k\",lw=2,alpha=0.9)\n",
    "plt.title(\"Activity vs Contribution\")\n",
    "plt.xlabel(\"Time steps\")\n",
    "plt.ylabel(\"Amplitude\")\n",
    "plt.legend(loc=\"lower left\")"
   ]
  },
  {
   "cell_type": "code",
   "execution_count": null,
   "metadata": {},
   "outputs": [],
   "source": [
    "sns.regplot(data[25],nonlinear_modes[25])\n",
    "spearmanr(data[25],nonlinear_modes[25])"
   ]
  },
  {
   "cell_type": "code",
   "execution_count": null,
   "metadata": {},
   "outputs": [],
   "source": [
    "mackey_ts = load_mackeyglasst17()\n",
    "y_train, y_test = train_test_split(mackey_ts[:2500],\n",
    "                                   train_size=2000,\n",
    "                                   test_size=500,\n",
    "                                   shuffle=False)\n",
    "\n",
    "y_train_validate, y_test_validate = train_test_split(mackey_ts[:3500],\n",
    "                                                     train_size=3000,\n",
    "                                                     test_size=500,\n",
    "                                                     shuffle=False)\n",
    "# Constructing connectomes and defining the parameters\n",
    "rng = np.random.default_rng(seed=SEED)\n",
    "smallworld = nx.generators.watts_strogatz_graph(36, 6, 0.4, seed=SEED)\n",
    "connectivity_matrix = nx.to_numpy_array(smallworld)\n",
    "\n",
    "ser_connectome = connectivity_matrix * rng.uniform(low=0.1,\n",
    "                                          high=1,\n",
    "                                          size=(len(connectivity_matrix), len(connectivity_matrix)))\n",
    "\n",
    "# randomly assigning weights 50 times to have 50 ESN connectomes. This'll make the network more robust.\n",
    "esn_weights = [connectivity_matrix * rng.uniform(low=-0.5,\n",
    "                                        high=0.5,\n",
    "                                        size=(len(connectivity_matrix), len(connectivity_matrix))) for _ in range(50)]\n",
    "\n",
    "parameter_space = list(ParameterGrid({'radius': np.linspace(0.5, 1, 20),\n",
    "                                      'W': esn_weights}))\n",
    "esn = ESNGenerator(n_steps=500,\n",
    "                   spectral_radius=None,  # to be filled during the hyperparameter tuning\n",
    "                   leak_rate=0.1,\n",
    "                   random_state=SEED,\n",
    "                   W=None,  # to be filled during the hyperparameter tuning\n",
    "                   W_fb=rng.integers(-1, 1, len(connectivity_matrix)).reshape(-1, 1),\n",
    "                   W_in=rng.uniform(-1, 1, len(connectivity_matrix)).reshape(-1, 1),\n",
    "                   bias=0.001)\n",
    "# Finding the best weights and spectral radius (hyperparameter tuning):\n",
    "for parameters in tqdm(parameter_space,\n",
    "                       total=len(parameter_space),\n",
    "                       desc='Optimizing hyperparams: '):\n",
    "    esn.spectral_radius = parameters['radius']\n",
    "    esn.W = parameters['W']\n",
    "    esn.fit(X=None, y=y_train)\n",
    "    y_pred = esn.predict()\n",
    "    parameters.update({'error': mean_squared_error(y_test, y_pred)})\n",
    "\n",
    "optimum_params = min(parameter_space, key=lambda x: x['error'])  # the combination with the minimum MSE"
   ]
  },
  {
   "cell_type": "code",
   "execution_count": null,
   "metadata": {},
   "outputs": [],
   "source": [
    "# testing the network.\n",
    "esn.spectral_radius = optimum_params['radius']\n",
    "esn.W = optimum_params['W']\n",
    "esn.store_states_pred=True\n",
    "esn.fit(X=None, y=y_train_validate)\n",
    "\n",
    "y_pred = esn.predict()\n",
    "mse = mean_squared_error(y_test_validate, y_pred)\n",
    "\n",
    "print(f'MSE: {mse:.2}, Optimal Spectral Radius: {optimum_params[\"radius\"]:.2}')"
   ]
  },
  {
   "cell_type": "code",
   "execution_count": null,
   "metadata": {},
   "outputs": [],
   "source": [
    "lesion_esn_params = {'network': esn, 'training_data': y_train_validate}\n",
    "shapley_table_esn, _, _ = msa.interface(multiprocessing_method='joblib',\n",
    "                                    elements=list(range(esn.n_reservoir_)),\n",
    "                                    n_permutations=1_000,\n",
    "                                    objective_function=lesion_esn,\n",
    "                                    objective_function_params=lesion_esn_params,\n",
    "                                    n_parallel_games=-1,\n",
    "                                    random_seed=SEED)\n",
    "esn_modes = shapley_table_esn.groupby(level=1).mean()"
   ]
  },
  {
   "cell_type": "code",
   "execution_count": null,
   "metadata": {},
   "outputs": [],
   "source": [
    "from_to=[10,16]\n",
    "data_range=esn_modes.T[from_to[0]:from_to[1]]\n",
    "states_range = esn.states_pred_.T[from_to[0]:from_to[1]]\n",
    "complementary_colormap = sns.blend_palette(my_complementary_colors, n_colors=len(data_range),as_cmap=False)\n",
    "fig,axes = plt.subplot_mosaic(\n",
    "    [['A','B']],figsize=(10,3),dpi=150)\n",
    "sns.lineplot(data=data_range.T,palette=complementary_colormap,dashes=False,alpha=0.8,legend='brief',ax=axes['B'])\n",
    "sns.lineplot(data=states_range.T,palette=complementary_colormap,dashes=False,alpha=0.8,legend=False,ax=axes['A'])\n",
    "\n",
    "\n",
    "fig.tight_layout(pad=0.4)"
   ]
  },
  {
   "cell_type": "code",
   "execution_count": null,
   "metadata": {},
   "outputs": [],
   "source": [
    "median_index = np.argsort(np.abs(esn.W_out_).squeeze())[len(esn.W_out_.squeeze())//2]\n",
    "sns.scatterplot(esn.states_pred_.T[np.argmax(np.abs(esn.W_out_))],esn_modes[np.argmax(np.abs(esn.W_out_))].squeeze(),color=my_complementary_colors[0])\n",
    "sns.scatterplot(esn.states_pred_.T[median_index],esn_modes[median_index].squeeze(),color=my_complementary_colors[-2])\n",
    "sns.scatterplot(esn.states_pred_.T[np.argmin(np.abs(esn.W_out_[0,:-1]))],esn_modes[np.argmin(np.abs(esn.W_out_[0,:-1]))].squeeze(),color=my_complementary_colors[-1])\n",
    "\n"
   ]
  },
  {
   "cell_type": "code",
   "execution_count": null,
   "metadata": {},
   "outputs": [],
   "source": [
    "plt.figure(dpi=150)\n",
    "plt.plot(y_pred.squeeze())\n",
    "plt.plot(esn_modes.sum(axis=1))\n"
   ]
  },
  {
   "cell_type": "code",
   "execution_count": null,
   "metadata": {},
   "outputs": [],
   "source": [
    "mean_squared_error(y_pred.squeeze(),esn_modes.sum(axis=1))"
   ]
  },
  {
   "cell_type": "code",
   "execution_count": null,
   "metadata": {},
   "outputs": [],
   "source": [
    "from scipy.spatial.distance import cosine\n",
    "from scipy.stats import spearmanr, pearsonr"
   ]
  },
  {
   "cell_type": "code",
   "execution_count": null,
   "metadata": {},
   "outputs": [],
   "source": [
    "modes_similarities = np.array(esn_modes.corr())\n",
    "fc = np.corrcoef(esn.states_pred_.T)"
   ]
  },
  {
   "cell_type": "code",
   "execution_count": null,
   "metadata": {},
   "outputs": [],
   "source": [
    "fig,axes = plt.subplot_mosaic(\n",
    "    [['A','B']],figsize=(10,5),dpi=150)\n",
    "sns.heatmap(modes_similarities,square=True,center=0,\n",
    "            cmap=colormap,cbar_kws={\"shrink\": .5},ax=axes['A'],linewidths=0., linecolor='k')\n",
    "sns.heatmap(fc,square=True,\n",
    "            cmap=colormap,center=0,cbar_kws={\"shrink\": .5},ax=axes['B'],linewidths=0., linecolor='k')\n",
    "axes['A'].title.set_text('Fluctuation of the Causal Modes')\n",
    "axes['B'].title.set_text('Functional Connectivity')"
   ]
  },
  {
   "cell_type": "code",
   "execution_count": null,
   "metadata": {},
   "outputs": [],
   "source": [
    "gamma = 1.\n",
    "mode_communities = [bct.clustering.modularity_louvain_und_sign(modes_similarities, gamma=gamma)[0] for _ in range(1000)]\n",
    "mode_consensus = cluster.find_consensus(np.column_stack(mode_communities), seed=SEED)\n",
    "fc_communities = [bct.clustering.modularity_louvain_und_sign(fc, gamma=gamma)[0] for _ in range(1000)]\n",
    "fc_consensus = cluster.find_consensus(np.column_stack(fc_communities), seed=SEED)\n"
   ]
  },
  {
   "cell_type": "code",
   "execution_count": null,
   "metadata": {},
   "outputs": [],
   "source": [
    "fig,axes = plt.subplot_mosaic([['A','B']],figsize=(10,5),dpi=150)\n",
    "netplot.plot_mod_heatmap(modes_similarities, mode_consensus, cmap=colormap,ax=axes['A'],cbar=False)\n",
    "netplot.plot_mod_heatmap(fc, fc_consensus, cmap=colormap,ax=axes['B'],cbar=False,)"
   ]
  },
  {
   "cell_type": "code",
   "execution_count": null,
   "metadata": {},
   "outputs": [],
   "source": [
    "nonnegative_modes = modes_similarities.copy()\n",
    "nonnegative_modes[modes_similarities<0] = 0\n",
    "\n",
    "nonnegative_fc = fc.copy()\n",
    "nonnegative_fc[fc<0] = 0"
   ]
  },
  {
   "cell_type": "code",
   "execution_count": null,
   "metadata": {},
   "outputs": [],
   "source": [
    "ks_index=[]\n",
    "for i in range(len(esn_modes.T)):\n",
    "    temp=[]\n",
    "    temp,_=ks_2samp(np.array(esn.states_pred_.T[i]),np.array(esn_modes[i]))\n",
    "    ks_index.append(temp)\n"
   ]
  },
  {
   "cell_type": "code",
   "execution_count": null,
   "metadata": {},
   "outputs": [],
   "source": [
    "pc = bct.participation_coef(nonnegative_modes, mode_consensus)\n",
    "data=pd.DataFrame({'ks':ks_index,'pc':pc})\n",
    "sns.regplot(x='ks',y='pc',data=data,truncate=False,color='k')\n",
    "linregress(ks_index,pc)"
   ]
  },
  {
   "cell_type": "code",
   "execution_count": null,
   "metadata": {},
   "outputs": [],
   "source": [
    "structural_communities = [bct.community_louvain(connectivity_matrix, gamma=gamma)[0] for n in range(1000)]\n",
    "\n",
    "structural_consensus = cluster.find_consensus(np.column_stack(structural_communities), seed=SEED)\n",
    "netplot.plot_mod_heatmap(esn.W, structural_consensus, cmap=colormap)"
   ]
  },
  {
   "cell_type": "code",
   "execution_count": null,
   "metadata": {},
   "outputs": [],
   "source": [
    "from network_control.utils import matrix_normalization\n",
    "from network_control.metrics import ave_control, modal_control\n",
    "A = matrix_normalization(np.abs(esn.W), c=1, version='discrete')\n",
    "mc = modal_control(A)\n",
    "ac = ave_control(A)"
   ]
  },
  {
   "cell_type": "code",
   "execution_count": null,
   "metadata": {},
   "outputs": [],
   "source": [
    "test = mc\n",
    "sns.regplot(ks_index,test)\n",
    "linregress(ks_index,test)"
   ]
  },
  {
   "cell_type": "code",
   "execution_count": null,
   "metadata": {},
   "outputs": [],
   "source": []
  }
 ],
 "metadata": {
  "kernelspec": {
   "display_name": "Python 3.9.13 ('cmodes')",
   "language": "python",
   "name": "python3"
  },
  "language_info": {
   "codemirror_mode": {
    "name": "ipython",
    "version": 3
   },
   "file_extension": ".py",
   "mimetype": "text/x-python",
   "name": "python",
   "nbconvert_exporter": "python",
   "pygments_lexer": "ipython3",
   "version": "3.9.13"
  },
  "vscode": {
   "interpreter": {
    "hash": "c36b63b08f663ee282e2c22639cff1483c2f30af04d79aa789770d30c928cf79"
   }
  }
 },
 "nbformat": 4,
 "nbformat_minor": 0
}
